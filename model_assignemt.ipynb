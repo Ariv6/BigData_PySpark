{
 "cells": [
  {
   "cell_type": "code",
   "execution_count": 1,
   "metadata": {},
   "outputs": [],
   "source": [
    "import pandas as pd"
   ]
  },
  {
   "cell_type": "code",
   "execution_count": 2,
   "metadata": {},
   "outputs": [
    {
     "data": {
      "text/html": [
       "<div>\n",
       "<style scoped>\n",
       "    .dataframe tbody tr th:only-of-type {\n",
       "        vertical-align: middle;\n",
       "    }\n",
       "\n",
       "    .dataframe tbody tr th {\n",
       "        vertical-align: top;\n",
       "    }\n",
       "\n",
       "    .dataframe thead th {\n",
       "        text-align: right;\n",
       "    }\n",
       "</style>\n",
       "<table border=\"1\" class=\"dataframe\">\n",
       "  <thead>\n",
       "    <tr style=\"text-align: right;\">\n",
       "      <th></th>\n",
       "      <th>TOTAL VALUE</th>\n",
       "      <th>TAX</th>\n",
       "      <th>LOT SQFT</th>\n",
       "      <th>YR BUILT</th>\n",
       "      <th>GROSS AREA</th>\n",
       "      <th>LIVING AREA</th>\n",
       "      <th>FLOORS</th>\n",
       "      <th>ROOMS</th>\n",
       "      <th>BEDROOMS</th>\n",
       "      <th>FULL BATH</th>\n",
       "      <th>HALF BATH</th>\n",
       "      <th>KITCHEN</th>\n",
       "      <th>FIREPLACE</th>\n",
       "      <th>REMODEL</th>\n",
       "    </tr>\n",
       "  </thead>\n",
       "  <tbody>\n",
       "    <tr>\n",
       "      <th>0</th>\n",
       "      <td>344.2</td>\n",
       "      <td>4330</td>\n",
       "      <td>9965</td>\n",
       "      <td>1880</td>\n",
       "      <td>2436</td>\n",
       "      <td>1352</td>\n",
       "      <td>2.0</td>\n",
       "      <td>6</td>\n",
       "      <td>3</td>\n",
       "      <td>1</td>\n",
       "      <td>1</td>\n",
       "      <td>1</td>\n",
       "      <td>0</td>\n",
       "      <td>None</td>\n",
       "    </tr>\n",
       "    <tr>\n",
       "      <th>1</th>\n",
       "      <td>412.6</td>\n",
       "      <td>5190</td>\n",
       "      <td>6590</td>\n",
       "      <td>1945</td>\n",
       "      <td>3108</td>\n",
       "      <td>1976</td>\n",
       "      <td>2.0</td>\n",
       "      <td>10</td>\n",
       "      <td>4</td>\n",
       "      <td>2</td>\n",
       "      <td>1</td>\n",
       "      <td>1</td>\n",
       "      <td>0</td>\n",
       "      <td>Recent</td>\n",
       "    </tr>\n",
       "    <tr>\n",
       "      <th>2</th>\n",
       "      <td>330.1</td>\n",
       "      <td>4152</td>\n",
       "      <td>7500</td>\n",
       "      <td>1890</td>\n",
       "      <td>2294</td>\n",
       "      <td>1371</td>\n",
       "      <td>2.0</td>\n",
       "      <td>8</td>\n",
       "      <td>4</td>\n",
       "      <td>1</td>\n",
       "      <td>1</td>\n",
       "      <td>1</td>\n",
       "      <td>0</td>\n",
       "      <td>None</td>\n",
       "    </tr>\n",
       "    <tr>\n",
       "      <th>3</th>\n",
       "      <td>498.6</td>\n",
       "      <td>6272</td>\n",
       "      <td>13773</td>\n",
       "      <td>1957</td>\n",
       "      <td>5032</td>\n",
       "      <td>2608</td>\n",
       "      <td>1.0</td>\n",
       "      <td>9</td>\n",
       "      <td>5</td>\n",
       "      <td>1</td>\n",
       "      <td>1</td>\n",
       "      <td>1</td>\n",
       "      <td>1</td>\n",
       "      <td>None</td>\n",
       "    </tr>\n",
       "    <tr>\n",
       "      <th>4</th>\n",
       "      <td>331.5</td>\n",
       "      <td>4170</td>\n",
       "      <td>5000</td>\n",
       "      <td>1910</td>\n",
       "      <td>2370</td>\n",
       "      <td>1438</td>\n",
       "      <td>2.0</td>\n",
       "      <td>7</td>\n",
       "      <td>3</td>\n",
       "      <td>2</td>\n",
       "      <td>0</td>\n",
       "      <td>1</td>\n",
       "      <td>0</td>\n",
       "      <td>None</td>\n",
       "    </tr>\n",
       "  </tbody>\n",
       "</table>\n",
       "</div>"
      ],
      "text/plain": [
       "   TOTAL VALUE    TAX  LOT SQFT   YR BUILT  GROSS AREA   LIVING AREA  FLOORS   \\\n",
       "0         344.2  4330       9965      1880         2436         1352      2.0   \n",
       "1         412.6  5190       6590      1945         3108         1976      2.0   \n",
       "2         330.1  4152       7500      1890         2294         1371      2.0   \n",
       "3         498.6  6272      13773      1957         5032         2608      1.0   \n",
       "4         331.5  4170       5000      1910         2370         1438      2.0   \n",
       "\n",
       "   ROOMS  BEDROOMS   FULL BATH  HALF BATH  KITCHEN  FIREPLACE REMODEL  \n",
       "0      6          3          1          1        1          0    None  \n",
       "1     10          4          2          1        1          0  Recent  \n",
       "2      8          4          1          1        1          0    None  \n",
       "3      9          5          1          1        1          1    None  \n",
       "4      7          3          2          0        1          0    None  "
      ]
     },
     "execution_count": 2,
     "metadata": {},
     "output_type": "execute_result"
    }
   ],
   "source": [
    "df = pd.read_csv('WestRoxbury.csv')\n",
    "df.head()"
   ]
  },
  {
   "cell_type": "code",
   "execution_count": 3,
   "metadata": {},
   "outputs": [
    {
     "name": "stderr",
     "output_type": "stream",
     "text": [
      "Using Spark's default log4j profile: org/apache/spark/log4j-defaults.properties\n",
      "Setting default log level to \"WARN\".\n",
      "To adjust logging level use sc.setLogLevel(newLevel). For SparkR, use setLogLevel(newLevel).\n",
      "23/05/01 01:07:14 WARN NativeCodeLoader: Unable to load native-hadoop library for your platform... using builtin-java classes where applicable\n"
     ]
    },
    {
     "name": "stdout",
     "output_type": "stream",
     "text": [
      "Spark Session WebUI Port: 4040\n"
     ]
    }
   ],
   "source": [
    "import findspark\n",
    "findspark.init()\n",
    "\n",
    "from pyspark.sql import SparkSession;\n",
    "\n",
    "spark = SparkSession.builder.master(\"local[4]\").appName(\"ISM6562 Spark App01\").enableHiveSupport().getOrCreate();\n",
    "\n",
    "# Let's get the SparkContext object. It's the entry point to the Spark API. It's created when you create a sparksession\n",
    "sc = spark.sparkContext  \n",
    "\n",
    "# note: If you have multiple spark sessions running (like from a previous notebook you've run), \n",
    "# this spark session webUI will be on a different port than the default (4040). One way to \n",
    "# identify this part is with the following line. If there was only one spark session running, \n",
    "# this will be 4040. If it's higher, it means there are still other spark sesssions still running.\n",
    "spark_session_port = spark.sparkContext.uiWebUrl.split(\":\")[-1]\n",
    "print(\"Spark Session WebUI Port: \" + spark_session_port)\n",
    "\n",
    "# It's best if you find that the port number displayed below is not 4040, then you should shut down all other spark sessions and \n",
    "# run this code again. If you don't, you may have trouble accessing the data in the spark-warehouse directory."
   ]
  },
  {
   "cell_type": "code",
   "execution_count": 4,
   "metadata": {},
   "outputs": [
    {
     "data": {
      "text/html": [
       "\n",
       "            <div>\n",
       "                <p><b>SparkSession - hive</b></p>\n",
       "                \n",
       "        <div>\n",
       "            <p><b>SparkContext</b></p>\n",
       "\n",
       "            <p><a href=\"http://arivarasans-mbp.lan:4040\">Spark UI</a></p>\n",
       "\n",
       "            <dl>\n",
       "              <dt>Version</dt>\n",
       "                <dd><code>v3.2.1</code></dd>\n",
       "              <dt>Master</dt>\n",
       "                <dd><code>local[4]</code></dd>\n",
       "              <dt>AppName</dt>\n",
       "                <dd><code>ISM6562 Spark App01</code></dd>\n",
       "            </dl>\n",
       "        </div>\n",
       "        \n",
       "            </div>\n",
       "        "
      ],
      "text/plain": [
       "<pyspark.sql.session.SparkSession at 0x120a19210>"
      ]
     },
     "execution_count": 4,
     "metadata": {},
     "output_type": "execute_result"
    }
   ],
   "source": [
    "spark"
   ]
  },
  {
   "cell_type": "code",
   "execution_count": 5,
   "metadata": {},
   "outputs": [
    {
     "name": "stderr",
     "output_type": "stream",
     "text": [
      "/Users/ariv/miniconda3/envs/spark/lib/python3.10/site-packages/pyspark/sql/pandas/conversion.py:371: FutureWarning: iteritems is deprecated and will be removed in a future version. Use .items instead.\n",
      "  for column, series in pdf.iteritems():\n"
     ]
    },
    {
     "name": "stdout",
     "output_type": "stream",
     "text": [
      "+-----------+----+--------+--------+----------+-----------+------+-----+--------+---------+---------+-------+---------+-------+\n",
      "|TOTAL_VALUE| TAX|LOT_SQFT|YR_BUILT|GROSS_AREA|LIVING_AREA|FLOORS|ROOMS|BEDROOMS|FULL_BATH|HALF_BATH|KITCHEN|FIREPLACE|REMODEL|\n",
      "+-----------+----+--------+--------+----------+-----------+------+-----+--------+---------+---------+-------+---------+-------+\n",
      "|      344.2|4330|    9965|    1880|      2436|       1352|   2.0|    6|       3|        1|        1|      1|        0|   None|\n",
      "|      412.6|5190|    6590|    1945|      3108|       1976|   2.0|   10|       4|        2|        1|      1|        0| Recent|\n",
      "|      330.1|4152|    7500|    1890|      2294|       1371|   2.0|    8|       4|        1|        1|      1|        0|   None|\n",
      "|      498.6|6272|   13773|    1957|      5032|       2608|   1.0|    9|       5|        1|        1|      1|        1|   None|\n",
      "|      331.5|4170|    5000|    1910|      2370|       1438|   2.0|    7|       3|        2|        0|      1|        0|   None|\n",
      "|      337.4|4244|    5142|    1950|      2124|       1060|   1.0|    6|       3|        1|        0|      1|        1|    Old|\n",
      "|      359.4|4521|    5000|    1954|      3220|       1916|   2.0|    7|       3|        1|        1|      1|        0|   None|\n",
      "|      320.4|4030|   10000|    1950|      2208|       1200|   1.0|    6|       3|        1|        0|      1|        0|   None|\n",
      "|      333.5|4195|    6835|    1958|      2582|       1092|   1.0|    5|       3|        1|        0|      1|        1| Recent|\n",
      "|      409.4|5150|    5093|    1900|      4818|       2992|   2.0|    8|       4|        2|        0|      1|        0|   None|\n",
      "|      313.0|3937|    5000|    1960|      2624|       1485|   1.5|    6|       3|        2|        0|      1|        1|   None|\n",
      "|      344.5|4333|    6768|    1958|      2844|       1460|   1.5|    6|       3|        2|        0|      1|        1|   None|\n",
      "|      315.5|3968|    5000|    1889|      2196|       1290|   2.0|    6|       3|        1|        0|      1|        0|   None|\n",
      "|      575.0|7233|   12288|    2004|      4616|       2378|   2.0|    9|       4|        2|        1|      1|        1|   None|\n",
      "|      326.2|4103|    5000|    1954|      2536|       1272|   1.5|    6|       3|        1|        1|      1|        1|   None|\n",
      "|      298.2|3751|    5000|    1940|      2129|        864|   1.0|    7|       3|        2|        0|      1|        0|   None|\n",
      "|      313.1|3938|    6949|    1880|      2612|       1438|   1.5|    7|       3|        1|        1|      1|        0|    Old|\n",
      "|      344.9|4338|   10000|    1950|      2099|       1445|   1.0|    7|       3|        1|        1|      1|        1|   None|\n",
      "|      330.7|4160|    5000|    1910|      2408|       1470|   2.0|    7|       3|        1|        0|      1|        0|   None|\n",
      "|      348.0|4377|    9001|    1875|      2840|       1632|   2.0|    7|       3|        1|        0|      1|        0|   None|\n",
      "+-----------+----+--------+--------+----------+-----------+------+-----+--------+---------+---------+-------+---------+-------+\n",
      "only showing top 20 rows\n",
      "\n"
     ]
    },
    {
     "name": "stderr",
     "output_type": "stream",
     "text": [
      "                                                                                \r"
     ]
    }
   ],
   "source": [
    "df_spark = spark.createDataFrame(df)\n",
    "\n",
    "# Replace spaces in column names with underscores\n",
    "new_col_names = [col.strip().replace(' ', '_') for col in df_spark.columns]\n",
    "df_spark = df_spark.toDF(*new_col_names)\n",
    "df_spark.show()"
   ]
  },
  {
   "cell_type": "code",
   "execution_count": 6,
   "metadata": {},
   "outputs": [],
   "source": [
    "def parseLine(line):\n",
    "    fields = line.split(',')\n",
    "    total_value = int(fields[0])\n",
    "    tax = int(fields[1])\n",
    "    lot_sqft= int(fields[2])\n",
    "    yr_built= int(fields[3])\n",
    "    gross_area= int(fields[4])\n",
    "    living_area= int(fields[5])\n",
    "    floors= int(fields[6])\n",
    "    rooms= int(fields[7])\n",
    "    bedrooms= int(fields[8])\n",
    "    full_bath= int(fields[9])\n",
    "    half_bath= int(fields[10])\n",
    "    kitchen= int(fields[11])\n",
    "    fireplace= int(fields[12])\n",
    "    remodel= int(fields[13])\n",
    "    return (total_value, tax, lot_sqft, yr_built, gross_area, living_area, floors, rooms, bedrooms, full_bath, half_bath, kitchen, fireplace, remodel)"
   ]
  },
  {
   "cell_type": "code",
   "execution_count": 7,
   "metadata": {},
   "outputs": [
    {
     "name": "stderr",
     "output_type": "stream",
     "text": [
      "23/05/01 01:07:18 WARN HiveConf: HiveConf of name hive.stats.jdbc.timeout does not exist\n",
      "23/05/01 01:07:18 WARN HiveConf: HiveConf of name hive.stats.retries.wait does not exist\n",
      "23/05/01 01:07:20 WARN ObjectStore: Version information not found in metastore. hive.metastore.schema.verification is not enabled so recording the schema version 2.3.0\n",
      "23/05/01 01:07:20 WARN ObjectStore: setMetaStoreSchemaVersion called but recording version is disabled: version = 2.3.0, comment = Set by MetaStore ariv@192.168.1.74\n"
     ]
    },
    {
     "name": "stdout",
     "output_type": "stream",
     "text": [
      "+---------+\n",
      "|namespace|\n",
      "+---------+\n",
      "|  default|\n",
      "+---------+\n",
      "\n"
     ]
    }
   ],
   "source": [
    "df=spark.sql(\"show databases\")\n",
    "df.show()"
   ]
  },
  {
   "cell_type": "code",
   "execution_count": 8,
   "metadata": {},
   "outputs": [],
   "source": [
    "df_spark.createOrReplaceTempView(\"westroxbury\")"
   ]
  },
  {
   "cell_type": "code",
   "execution_count": 9,
   "metadata": {},
   "outputs": [
    {
     "name": "stdout",
     "output_type": "stream",
     "text": [
      "+-----------+----+--------+--------+----------+-----------+------+-----+--------+---------+---------+-------+---------+-------+\n",
      "|TOTAL_VALUE| TAX|LOT_SQFT|YR_BUILT|GROSS_AREA|LIVING_AREA|FLOORS|ROOMS|BEDROOMS|FULL_BATH|HALF_BATH|KITCHEN|FIREPLACE|REMODEL|\n",
      "+-----------+----+--------+--------+----------+-----------+------+-----+--------+---------+---------+-------+---------+-------+\n",
      "|      344.2|4330|    9965|    1880|      2436|       1352|   2.0|    6|       3|        1|        1|      1|        0|   None|\n",
      "|      412.6|5190|    6590|    1945|      3108|       1976|   2.0|   10|       4|        2|        1|      1|        0| Recent|\n",
      "|      330.1|4152|    7500|    1890|      2294|       1371|   2.0|    8|       4|        1|        1|      1|        0|   None|\n",
      "|      498.6|6272|   13773|    1957|      5032|       2608|   1.0|    9|       5|        1|        1|      1|        1|   None|\n",
      "|      331.5|4170|    5000|    1910|      2370|       1438|   2.0|    7|       3|        2|        0|      1|        0|   None|\n",
      "+-----------+----+--------+--------+----------+-----------+------+-----+--------+---------+---------+-------+---------+-------+\n",
      "only showing top 5 rows\n",
      "\n"
     ]
    }
   ],
   "source": [
    "df = spark.sql(\"select * from westroxbury\")\n",
    "df.show(5)"
   ]
  },
  {
   "cell_type": "code",
   "execution_count": 10,
   "metadata": {},
   "outputs": [],
   "source": [
    "%load_ext sparksql_magic"
   ]
  },
  {
   "cell_type": "code",
   "execution_count": 11,
   "metadata": {},
   "outputs": [
    {
     "data": {
      "text/html": [
       "<table><tr style=\"border-bottom: 1px solid\"><td style=\"font-weight: bold\">TOTAL_VALUE</td><td style=\"font-weight: bold\">TAX</td><td style=\"font-weight: bold\">LOT_SQFT</td><td style=\"font-weight: bold\">YR_BUILT</td><td style=\"font-weight: bold\">GROSS_AREA</td><td style=\"font-weight: bold\">LIVING_AREA</td><td style=\"font-weight: bold\">FLOORS</td><td style=\"font-weight: bold\">ROOMS</td><td style=\"font-weight: bold\">BEDROOMS</td><td style=\"font-weight: bold\">FULL_BATH</td><td style=\"font-weight: bold\">HALF_BATH</td><td style=\"font-weight: bold\">KITCHEN</td><td style=\"font-weight: bold\">FIREPLACE</td><td style=\"font-weight: bold\">REMODEL</td></tr><tr><td>1217.8</td><td>15319</td><td>46411</td><td>1940</td><td>7144</td><td>4037</td><td>2.0</td><td>8</td><td>5</td><td>3</td><td>1</td><td>1</td><td>3</td><td>None</td></tr><tr><td>1009.9</td><td>12704</td><td>13300</td><td>2010</td><td>7624</td><td>4133</td><td>2.0</td><td>9</td><td>4</td><td>3</td><td>1</td><td>1</td><td>2</td><td>None</td></tr><tr><td>996.9</td><td>12541</td><td>10050</td><td>2006</td><td>5392</td><td>4375</td><td>2.0</td><td>11</td><td>4</td><td>4</td><td>0</td><td>1</td><td>1</td><td>None</td></tr><tr><td>936.0</td><td>11774</td><td>20560</td><td>1901</td><td>8154</td><td>4106</td><td>2.0</td><td>9</td><td>4</td><td>3</td><td>1</td><td>1</td><td>2</td><td>None</td></tr><tr><td>935.1</td><td>11763</td><td>25200</td><td>1954</td><td>6840</td><td>5289</td><td>1.0</td><td>13</td><td>9</td><td>2</td><td>1</td><td>2</td><td>2</td><td>Recent</td></tr><tr><td>928.0</td><td>11674</td><td>16282</td><td>1919</td><td>7347</td><td>3917</td><td>2.0</td><td>9</td><td>5</td><td>3</td><td>1</td><td>1</td><td>2</td><td>None</td></tr><tr><td>912.6</td><td>11480</td><td>12475</td><td>1928</td><td>5698</td><td>3488</td><td>2.0</td><td>8</td><td>4</td><td>2</td><td>1</td><td>1</td><td>2</td><td>None</td></tr><tr><td>874.7</td><td>11003</td><td>10500</td><td>1907</td><td>5402</td><td>3500</td><td>2.5</td><td>10</td><td>4</td><td>3</td><td>1</td><td>1</td><td>2</td><td>Recent</td></tr><tr><td>873.0</td><td>10982</td><td>19630</td><td>1910</td><td>6565</td><td>3374</td><td>2.0</td><td>12</td><td>4</td><td>3</td><td>1</td><td>1</td><td>4</td><td>Recent</td></tr><tr><td>827.3</td><td>10407</td><td>34261</td><td>1900</td><td>6477</td><td>4100</td><td>2.5</td><td>12</td><td>6</td><td>2</td><td>2</td><td>1</td><td>3</td><td>None</td></tr></table>"
      ],
      "text/plain": [
       "<IPython.core.display.HTML object>"
      ]
     },
     "execution_count": 11,
     "metadata": {},
     "output_type": "execute_result"
    }
   ],
   "source": [
    "%%sparksql\n",
    "SELECT * FROM westroxbury ORDER BY TOTAL_VALUE DESC LIMIT 10"
   ]
  },
  {
   "cell_type": "code",
   "execution_count": 12,
   "metadata": {},
   "outputs": [
    {
     "name": "stdout",
     "output_type": "stream",
     "text": [
      "+-----------------+\n",
      "| avg(TOTAL_VALUE)|\n",
      "+-----------------+\n",
      "|446.5189508571429|\n",
      "+-----------------+\n",
      "\n"
     ]
    }
   ],
   "source": [
    "remodel_avg = spark.sql(\"select avg(TOTAL_VALUE) from westroxbury where REMODEL='Recent'\")\n",
    "remodel_avg.show()"
   ]
  },
  {
   "cell_type": "code",
   "execution_count": 13,
   "metadata": {},
   "outputs": [
    {
     "name": "stdout",
     "output_type": "stream",
     "text": [
      "+------------------+\n",
      "|  avg(TOTAL_VALUE)|\n",
      "+------------------+\n",
      "|380.18913966866086|\n",
      "+------------------+\n",
      "\n"
     ]
    }
   ],
   "source": [
    "not_remodel_avg = spark.sql(\"select avg(TOTAL_VALUE) from westroxbury where REMODEL='None'\")\n",
    "not_remodel_avg.show()"
   ]
  },
  {
   "attachments": {},
   "cell_type": "markdown",
   "metadata": {},
   "source": [
    "Linear Regression"
   ]
  },
  {
   "cell_type": "code",
   "execution_count": 14,
   "metadata": {},
   "outputs": [
    {
     "name": "stdout",
     "output_type": "stream",
     "text": [
      "+--------+--------+----------+-----------+-------+-----------+\n",
      "|LOT_SQFT|YR_BUILT|GROSS_AREA|LIVING_AREA|REMODEL|TOTAL_VALUE|\n",
      "+--------+--------+----------+-----------+-------+-----------+\n",
      "|    9965|    1880|      2436|       1352|   None|      344.2|\n",
      "|    6590|    1945|      3108|       1976| Recent|      412.6|\n",
      "|    7500|    1890|      2294|       1371|   None|      330.1|\n",
      "|   13773|    1957|      5032|       2608|   None|      498.6|\n",
      "|    5000|    1910|      2370|       1438|   None|      331.5|\n",
      "|    5142|    1950|      2124|       1060|    Old|      337.4|\n",
      "|    5000|    1954|      3220|       1916|   None|      359.4|\n",
      "|   10000|    1950|      2208|       1200|   None|      320.4|\n",
      "|    6835|    1958|      2582|       1092| Recent|      333.5|\n",
      "|    5093|    1900|      4818|       2992|   None|      409.4|\n",
      "|    5000|    1960|      2624|       1485|   None|      313.0|\n",
      "|    6768|    1958|      2844|       1460|   None|      344.5|\n",
      "|    5000|    1889|      2196|       1290|   None|      315.5|\n",
      "|   12288|    2004|      4616|       2378|   None|      575.0|\n",
      "|    5000|    1954|      2536|       1272|   None|      326.2|\n",
      "|    5000|    1940|      2129|        864|   None|      298.2|\n",
      "|    6949|    1880|      2612|       1438|    Old|      313.1|\n",
      "|   10000|    1950|      2099|       1445|   None|      344.9|\n",
      "|    5000|    1910|      2408|       1470|   None|      330.7|\n",
      "|    9001|    1875|      2840|       1632|   None|      348.0|\n",
      "+--------+--------+----------+-----------+-------+-----------+\n",
      "only showing top 20 rows\n",
      "\n"
     ]
    }
   ],
   "source": [
    "df_select_columns =df_spark.select([\n",
    "    'LOT_SQFT',\n",
    "    'YR_BUILT',\n",
    "    'GROSS_AREA',\n",
    "    'LIVING_AREA',\n",
    "    'REMODEL',\n",
    "    'TOTAL_VALUE'\n",
    "    ]\n",
    ")\n",
    "\n",
    "df_select_columns.show()"
   ]
  },
  {
   "cell_type": "code",
   "execution_count": 15,
   "metadata": {},
   "outputs": [],
   "source": [
    "from pyspark.sql.functions import when\n",
    "\n",
    "# Convert the 'REMODEL' column to a numeric data type\n",
    "df_select_columns = df_select_columns.withColumn('REMODEL_NUM', when(df_select_columns['REMODEL'] == 'Recent', 1).otherwise(0))"
   ]
  },
  {
   "attachments": {},
   "cell_type": "markdown",
   "metadata": {},
   "source": [
    "Trian test split"
   ]
  },
  {
   "cell_type": "code",
   "execution_count": 16,
   "metadata": {},
   "outputs": [],
   "source": [
    "train_data,test_data=df_select_columns.randomSplit([0.7,0.3])"
   ]
  },
  {
   "cell_type": "code",
   "execution_count": 17,
   "metadata": {},
   "outputs": [
    {
     "name": "stdout",
     "output_type": "stream",
     "text": [
      "+--------+--------+----------+-----------+-------+-----------+-----------+\n",
      "|LOT_SQFT|YR_BUILT|GROSS_AREA|LIVING_AREA|REMODEL|TOTAL_VALUE|REMODEL_NUM|\n",
      "+--------+--------+----------+-----------+-------+-----------+-----------+\n",
      "|     997|    1910|      1319|        504|   None|      105.0|          0|\n",
      "|    1017|    1920|      1293|        797|   None|      144.6|          0|\n",
      "|    1037|    1920|      2520|       1680|   None|      176.9|          0|\n",
      "|    1218|    1920|      1965|        971|   None|      204.7|          0|\n",
      "|    1358|    1904|      2576|       1598|   None|      244.2|          0|\n",
      "|    1616|    1920|      1439|        856|   None|      182.7|          0|\n",
      "|    1821|    1920|      2452|       1162|   None|      182.2|          0|\n",
      "|    1999|    1960|      1968|       1296|   None|      274.7|          0|\n",
      "|    2088|    1988|      2192|       1400|   None|      303.5|          0|\n",
      "|    2100|    1900|      1800|        972| Recent|      262.1|          1|\n",
      "|    2100|    1900|      2414|       1544| Recent|      323.0|          1|\n",
      "|    2100|    1989|      2244|       1400|   None|      307.5|          0|\n",
      "|    2174|    1920|      2952|       1382|   None|      203.7|          0|\n",
      "|    2313|    1912|      1862|        754|   None|      171.8|          0|\n",
      "|    2410|    1950|      2535|       1632|   None|      256.4|          0|\n",
      "|    2415|    1987|      6001|       4392| Recent|     632.89|          1|\n",
      "|    2426|    1904|      2398|       1233|   None|      232.5|          0|\n",
      "|    2436|    1920|      2476|       1265|   None|      206.0|          0|\n",
      "|    2484|    1920|      2508|       1326|   None|      253.4|          0|\n",
      "|    2496|    1989|      2511|       1632|   None|      348.9|          0|\n",
      "+--------+--------+----------+-----------+-------+-----------+-----------+\n",
      "only showing top 20 rows\n",
      "\n"
     ]
    }
   ],
   "source": [
    "train_data.show()"
   ]
  },
  {
   "cell_type": "code",
   "execution_count": 18,
   "metadata": {},
   "outputs": [],
   "source": [
    "from pyspark.ml.feature import VectorAssembler\n",
    "\n",
    "# Combine the relevant columns into a feature vector\n",
    "assembler = VectorAssembler(inputCols=['LOT_SQFT', 'YR_BUILT', 'GROSS_AREA', 'LIVING_AREA', 'REMODEL_NUM'],\n",
    "                            outputCol='features')\n",
    "train_data = assembler.transform(train_data)\n",
    "test_data = assembler.transform(test_data)"
   ]
  },
  {
   "cell_type": "code",
   "execution_count": null,
   "metadata": {},
   "outputs": [],
   "source": []
  },
  {
   "cell_type": "code",
   "execution_count": 19,
   "metadata": {},
   "outputs": [
    {
     "name": "stderr",
     "output_type": "stream",
     "text": [
      "23/05/01 01:07:22 WARN Instrumentation: [ace8ac8d] regParam is zero, which might cause numerical instability and overfitting.\n",
      "23/05/01 01:07:22 WARN InstanceBuilder$NativeBLAS: Failed to load implementation from:dev.ludovic.netlib.blas.JNIBLAS\n",
      "23/05/01 01:07:22 WARN InstanceBuilder$NativeBLAS: Failed to load implementation from:dev.ludovic.netlib.blas.ForeignLinkerBLAS\n",
      "23/05/01 01:07:22 WARN InstanceBuilder$NativeLAPACK: Failed to load implementation from:dev.ludovic.netlib.lapack.JNILAPACK\n"
     ]
    }
   ],
   "source": [
    "from pyspark.ml.regression import LinearRegression\n",
    "\n",
    "lr_model = LinearRegression(featuresCol='features',labelCol='TOTAL_VALUE')\n",
    "fit_model = lr_model.fit(train_data.select(['features','TOTAL_VALUE']))"
   ]
  },
  {
   "cell_type": "code",
   "execution_count": 20,
   "metadata": {},
   "outputs": [
    {
     "name": "stdout",
     "output_type": "stream",
     "text": [
      "+--------+--------+----------+-----------+-------+-----------+-----------+--------------------+------------------+\n",
      "|LOT_SQFT|YR_BUILT|GROSS_AREA|LIVING_AREA|REMODEL|TOTAL_VALUE|REMODEL_NUM|            features|        prediction|\n",
      "+--------+--------+----------+-----------+-------+-----------+-----------+--------------------+------------------+\n",
      "|    1237|    1990|      3039|       1908|   None|      295.6|          0|[1237.0,1990.0,30...|380.52240970792644|\n",
      "|    1696|    1904|      2496|       1518|   None|      213.4|          0|[1696.0,1904.0,24...|326.28850030877265|\n",
      "|    1980|    1900|      1502|        690|   None|      167.6|          0|[1980.0,1900.0,15...|220.05195025525654|\n",
      "|    2295|    2002|      2718|       1728|   None|      368.0|          0|[2295.0,2002.0,27...| 364.1714729647741|\n",
      "|    2589|    1920|      1516|        748|   None|      222.5|          0|[2589.0,1920.0,15...|232.69361030948312|\n",
      "|    2670|    1945|      1912|       1128|   None|      215.5|          0|[2670.0,1945.0,19...|283.43624308701465|\n",
      "|    2706|    1920|      2928|       1636|   None|      266.3|          0|[2706.0,1920.0,29...| 356.4869269425551|\n",
      "|    2800|    1925|      2606|       1220|   None|      195.1|          0|[2800.0,1925.0,26...| 306.6311193714518|\n",
      "|    2845|    1920|      3100|       1761| Recent|      280.3|          1|[2845.0,1920.0,31...| 401.3937974508157|\n",
      "|    2896|    1984|      2464|       1596|   None|      271.5|          0|[2896.0,1984.0,24...|348.71695235828264|\n",
      "|    2900|    1915|      2183|       1119|   None|      229.1|          0|[2900.0,1915.0,21...|287.69977657666186|\n",
      "|    2968|    1920|      2027|        938|   None|      207.9|          0|[2968.0,1920.0,20...|266.09345868919115|\n",
      "|    2990|    1915|      1516|        972|   None|      236.9|          0|[2990.0,1915.0,15...| 259.6225465659852|\n",
      "|    3015|    1924|      2168|       1248|   None|      253.6|          0|[3015.0,1924.0,21...| 302.7407789719722|\n",
      "|    3150|    1955|      2456|       1620|    Old|      310.4|          0|[3150.0,1955.0,24...| 351.3291875169085|\n",
      "|    3150|    1962|      2496|       1420|   None|      243.3|          0|[3150.0,1962.0,24...| 331.0938312839552|\n",
      "|    3166|    1960|      2647|       1128|   None|      270.3|          0|[3166.0,1960.0,26...| 302.7109949964095|\n",
      "|    3175|    1955|      2684|       1183|   None|      259.3|          0|[3175.0,1955.0,26...| 309.0899078377344|\n",
      "|    3204|    1991|      1800|       1800|   None|      287.8|          0|[3204.0,1991.0,18...| 360.5511792977006|\n",
      "|    3205|    1924|      2117|       1061|   None|      220.0|          0|[3205.0,1924.0,21...| 283.2003415448373|\n",
      "+--------+--------+----------+-----------+-------+-----------+-----------+--------------------+------------------+\n",
      "only showing top 20 rows\n",
      "\n"
     ]
    }
   ],
   "source": [
    "results = fit_model.transform(test_data)\n",
    "results.show()"
   ]
  },
  {
   "cell_type": "code",
   "execution_count": 21,
   "metadata": {},
   "outputs": [],
   "source": [
    "test_results = fit_model.evaluate(test_data)"
   ]
  },
  {
   "cell_type": "code",
   "execution_count": 22,
   "metadata": {},
   "outputs": [
    {
     "name": "stdout",
     "output_type": "stream",
     "text": [
      "+-------------------+\n",
      "|          residuals|\n",
      "+-------------------+\n",
      "| -84.92240970792642|\n",
      "|-112.88850030877265|\n",
      "| -52.45195025525655|\n",
      "|  3.828527035225875|\n",
      "| -10.19361030948312|\n",
      "| -67.93624308701465|\n",
      "| -90.18692694255509|\n",
      "|-111.53111937145181|\n",
      "|-121.09379745081571|\n",
      "| -77.21695235828264|\n",
      "| -58.59977657666187|\n",
      "| -58.19345868919115|\n",
      "|-22.722546565985198|\n",
      "|-49.140778971972196|\n",
      "| -40.92918751690854|\n",
      "| -87.79383128395517|\n",
      "|  -32.4109949964095|\n",
      "|-49.789907837734404|\n",
      "| -72.75117929770062|\n",
      "| -63.20034154483727|\n",
      "+-------------------+\n",
      "only showing top 20 rows\n",
      "\n"
     ]
    },
    {
     "name": "stderr",
     "output_type": "stream",
     "text": [
      "/Users/ariv/miniconda3/envs/spark/lib/python3.10/site-packages/pyspark/sql/context.py:125: FutureWarning: Deprecated in 3.0.0. Use SparkSession.builder.getOrCreate() instead.\n",
      "  warnings.warn(\n"
     ]
    }
   ],
   "source": [
    "test_results.residuals.show()"
   ]
  },
  {
   "attachments": {},
   "cell_type": "markdown",
   "metadata": {},
   "source": [
    "Predicting the value of new home"
   ]
  },
  {
   "cell_type": "code",
   "execution_count": 23,
   "metadata": {},
   "outputs": [
    {
     "name": "stdout",
     "output_type": "stream",
     "text": [
      "The predicted price for the home is 438.49 dollars\n"
     ]
    }
   ],
   "source": [
    "from pyspark.ml.linalg import Vectors\n",
    "\n",
    "# create a DataFrame with a single row containing the features for the home you want to predict\n",
    "new_home_data = [(7500, 1990, 2100, 1900, 1)]\n",
    "new_home_df = spark.createDataFrame(new_home_data, ['LOT_SQFT', 'YR_BUILT', 'GROSS_AREA', 'LIVING_AREA', 'REMODEL_NUM'])\n",
    "\n",
    "# convert the features column to a DenseVector and use the fitted model to predict the home price\n",
    "new_home_df = assembler.transform(new_home_df)\n",
    "new_home_features = Vectors.dense(new_home_df.select('features').collect()[0][0])\n",
    "predicted_price = fit_model.predict(new_home_features)\n",
    "\n",
    "print(f'The predicted price for the home is {predicted_price:.2f} dollars')\n"
   ]
  },
  {
   "cell_type": "code",
   "execution_count": 24,
   "metadata": {},
   "outputs": [
    {
     "name": "stdout",
     "output_type": "stream",
     "text": [
      "+-----------+------------------+\n",
      "|TOTAL_VALUE|        prediction|\n",
      "+-----------+------------------+\n",
      "|      295.6|380.52240970792644|\n",
      "|      213.4|326.28850030877265|\n",
      "|      167.6|220.05195025525654|\n",
      "|      368.0| 364.1714729647741|\n",
      "|      222.5|232.69361030948312|\n",
      "|      215.5|283.43624308701465|\n",
      "|      266.3| 356.4869269425551|\n",
      "|      195.1| 306.6311193714518|\n",
      "|      280.3| 401.3937974508157|\n",
      "|      271.5|348.71695235828264|\n",
      "|      229.1|287.69977657666186|\n",
      "|      207.9|266.09345868919115|\n",
      "|      236.9| 259.6225465659852|\n",
      "|      253.6| 302.7407789719722|\n",
      "|      310.4| 351.3291875169085|\n",
      "|      243.3| 331.0938312839552|\n",
      "|      270.3| 302.7109949964095|\n",
      "|      259.3| 309.0899078377344|\n",
      "|      287.8| 360.5511792977006|\n",
      "|      220.0| 283.2003415448373|\n",
      "+-----------+------------------+\n",
      "only showing top 20 rows\n",
      "\n"
     ]
    }
   ],
   "source": [
    "results.select(['TOTAL_VALUE','prediction']).show()"
   ]
  },
  {
   "cell_type": "code",
   "execution_count": 25,
   "metadata": {},
   "outputs": [],
   "source": [
    "spark.stop()"
   ]
  }
 ],
 "metadata": {
  "kernelspec": {
   "display_name": "spark",
   "language": "python",
   "name": "python3"
  },
  "language_info": {
   "codemirror_mode": {
    "name": "ipython",
    "version": 3
   },
   "file_extension": ".py",
   "mimetype": "text/x-python",
   "name": "python",
   "nbconvert_exporter": "python",
   "pygments_lexer": "ipython3",
   "version": "3.10.10"
  },
  "orig_nbformat": 4
 },
 "nbformat": 4,
 "nbformat_minor": 2
}
